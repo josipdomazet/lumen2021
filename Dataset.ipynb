{
 "cells": [
  {
   "cell_type": "code",
   "execution_count": null,
   "metadata": {},
   "outputs": [],
   "source": [
    "import pandas as pd \n",
    "import matplotlib.pyplot as plt \n",
    "import plotly as pltly\n",
    "import numpy as np \n",
    "from plotly.subplots import make_subplots\n",
    "import plotly.graph_objects as go"
   ]
  },
  {
   "cell_type": "code",
   "execution_count": null,
   "metadata": {},
   "outputs": [],
   "source": [
    "\n",
    "\n",
    "\n",
    "data_frame = pd.read_csv(\"LUMEN_DS.csv\",sep='|',header=0,encoding = 'utf_16_le')"
   ]
  },
  {
   "cell_type": "code",
   "execution_count": null,
   "metadata": {},
   "outputs": [],
   "source": [
    "data_frame.columns.unique()"
   ]
  },
  {
   "cell_type": "code",
   "execution_count": null,
   "metadata": {},
   "outputs": [],
   "source": [
    "data_frame.drop(columns=\"sales_channel_grouping\",inplace = True)"
   ]
  },
  {
   "cell_type": "code",
   "execution_count": null,
   "metadata": {},
   "outputs": [],
   "source": [
    "data_frame\n"
   ]
  },
  {
   "cell_type": "code",
   "execution_count": null,
   "metadata": {},
   "outputs": [],
   "source": [
    "customer_frame[[\"top_customer_group\",\"gm\",\"invoiced_price\",\"invoiced_price_tx\",\"ordered_qty\"\n",
    "                ,\"invoiced_qty_shipped\",\"num_of_unique_products_on_a_quote\"]].describe()"
   ]
  },
  {
   "cell_type": "code",
   "execution_count": null,
   "metadata": {},
   "outputs": [],
   "source": [
    "plt.figure()\n",
    "data_frame[\"top_customer_group\"].hist(bins=2)\n",
    "\n",
    "plt.show()"
   ]
  },
  {
   "cell_type": "code",
   "execution_count": null,
   "metadata": {},
   "outputs": [],
   "source": [
    "data_frame[\"gm\"].describe()"
   ]
  },
  {
   "cell_type": "code",
   "execution_count": null,
   "metadata": {},
   "outputs": [],
   "source": [
    "# Dataset without outliers for better visualization \n",
    "def remove_outliers (feature,dataset): \n",
    "\n",
    "    Q1 = dataset[feature].quantile(0.25)\n",
    "    Q3 = dataset[feature].quantile(0.75)\n",
    "\n",
    "    IQR = Q3-Q1\n",
    "\n",
    "    indices = dataset[dataset[feature]>Q3+1.5*IQR].index\n",
    "    \n",
    "    dataset.drop(dataset[dataset[feature]>Q3+1.5*IQR].index,inplace=True)\n",
    "    \n",
    "    indices = dataset[dataset[feature]<Q1 - 1.5*IQR].index\n",
    "    \n",
    "    dataset.drop(dataset[dataset[feature]<Q1-1.5*IQR].index,inplace=True) \n",
    "    \n",
    "    \n",
    "    \n",
    "    return dataset\n"
   ]
  },
  {
   "cell_type": "code",
   "execution_count": null,
   "metadata": {},
   "outputs": [],
   "source": [
    "data_frame"
   ]
  },
  {
   "cell_type": "code",
   "execution_count": null,
   "metadata": {},
   "outputs": [],
   "source": [
    "gm_wo_outliers = remove_outliers(\"gm\",data_frame.copy())"
   ]
  },
  {
   "cell_type": "code",
   "execution_count": null,
   "metadata": {},
   "outputs": [],
   "source": [
    "\n",
    "\n",
    "fig = make_subplots(rows = 1,cols=1)\n",
    "\n",
    "fig.append_trace(go.Box(x=gm_wo_outliers[\"gm\"][gm_wo_outliers[\"top_customer_group\"] == \"OTHER\"],boxpoints=False,name =\"GM OTHER CUSTOMERS\"),row=1,col=1)\n",
    "fig.append_trace(go.Box(x=gm_wo_outliers[\"gm\"][gm_wo_outliers[\"top_customer_group\"] == \"STAR\"],boxpoints = False, name= \"GM STAR CUSTOMERS\"),row=1,col=1)\n",
    "\n",
    "fig.show()"
   ]
  },
  {
   "cell_type": "code",
   "execution_count": null,
   "metadata": {},
   "outputs": [],
   "source": [
    "top_frame = data_frame[[\"top_customer_group\",\"gm\",\"invoiced_price\",\"invoiced_price_tx\",\"ordered_qty\"\n",
    "                ,\"invoiced_qty_shipped\",\"num_of_unique_products_on_a_quote\"]].copy()\n",
    "\n",
    "fig = make_subplots(rows = 6,cols=1)\n",
    "\n",
    "feature_names = [\"gm\",\"invoiced_price\",\"invoiced_price_tx\",\"ordered_qty\"\n",
    "                ,\"invoiced_qty_shipped\",\"num_of_unique_products_on_a_quote\"]\n",
    "for i in range(len(feature_names)) : \n",
    "    wo_outliers = remove_outliers(feature_names[i],data_frame.copy())\n",
    "    \n",
    "    fig.append_trace(go.Box(x=wo_outliers[feature_names[i]][wo_outliers[\"top_customer_group\"] == \"OTHER\"],boxpoints=False,name =feature_names[i] +  \" OTHER CUSTOMERS\"),row=i+1,col=1)\n",
    "    fig.append_trace(go.Box(x=wo_outliers[feature_names[i]][wo_outliers[\"top_customer_group\"] == \"STAR\"],boxpoints = False, name= feature_names[i]+\" STAR CUSTOMERS\"),row=i+1,col=1)\n",
    "    \n",
    "\n",
    "fig.update_layout(autosize=False,width=1200,height=1500)\n",
    "fig.show()"
   ]
  },
  {
   "cell_type": "code",
   "execution_count": null,
   "metadata": {},
   "outputs": [],
   "source": [
    "fig = make_subplots(rows = 6,cols=1)\n",
    "\n",
    "feature_names = [\"gm\",\"invoiced_price\",\"invoiced_price_tx\",\"ordered_qty\"\n",
    "                ,\"invoiced_qty_shipped\",\"num_of_unique_products_on_a_quote\"]\n",
    "for i in range(len(feature_names)) : \n",
    "    \n",
    "    fig.append_trace(go.Box(x=top_frame[feature_names[i]][top_frame[\"top_customer_group\"] == \"OTHER\"],boxpoints=\"suspectedoutliers\",name =feature_names[i] +  \" OTHER CUSTOMERS\"),row=i+1,col=1)\n",
    "    fig.append_trace(go.Box(x=top_frame[feature_names[i]][top_frame[\"top_customer_group\"] == \"STAR\"],boxpoints = \"suspectedoutliers\", name= feature_names[i]+\" STAR CUSTOMERS\"),row=i+1,col=1)\n",
    "    \n",
    "\n",
    "fig.update_layout(autosize=False,width=1200,height=1500)\n",
    "fig.show()"
   ]
  },
  {
   "cell_type": "code",
   "execution_count": null,
   "metadata": {},
   "outputs": [],
   "source": [
    "del top_frame\n",
    "del wo_outliers\n",
    "gc.collect()"
   ]
  },
  {
   "cell_type": "code",
   "execution_count": null,
   "metadata": {},
   "outputs": [],
   "source": [
    "data_frame[\"manufacturing_region\"].unique()"
   ]
  },
  {
   "cell_type": "code",
   "execution_count": null,
   "metadata": {},
   "outputs": [],
   "source": []
  },
  {
   "cell_type": "code",
   "execution_count": null,
   "metadata": {},
   "outputs": [],
   "source": []
  },
  {
   "cell_type": "code",
   "execution_count": null,
   "metadata": {},
   "outputs": [],
   "source": [
    "customer_frame = data_frame[[\"customer_id\",\"top_customer_group\",\"customer_region\",\"customer_industry\"]].copy()\n",
    "customer_frame.drop_duplicates() \n",
    "\n"
   ]
  },
  {
   "cell_type": "code",
   "execution_count": null,
   "metadata": {},
   "outputs": [],
   "source": [
    "###plot star customers per region\n",
    "\n",
    "fig = make_subplots(rows=2,cols = 1,subplot_titles = [\"region manufactured\",\"customer region\"]) \n",
    "\n",
    "fig.append_trace(go.Histogram(histnorm=\"percent\",  x=data_frame[\"manufacturing_region\"][data_frame[\"top_customer_group\"]==\"OTHER\"],marker={'color':'blue'}, name=\"OTHER\",legendgroup=\"group1\",nbinsx=4),1,1)\n",
    "fig.append_trace(go.Histogram(histnorm=\"percent\",  x=data_frame[\"manufacturing_region\"][data_frame[\"top_customer_group\"]==\"STAR\"],marker={'color':'yellow'} ,name=\"STAR\",legendgroup=\"group1\",nbinsx=4),1,1)\n",
    "\n",
    "fig.append_trace(go.Histogram(histnorm=\"percent\",  x=customer_frame[\"customer_region\"][customer_frame[\"top_customer_group\"]==\"OTHER\"],marker={'color':'blue'}, name=\"OTHER\",legendgroup=\"group2\"),2,1)\n",
    "fig.append_trace(go.Histogram(histnorm=\"percent\",  x=customer_frame[\"customer_region\"][customer_frame[\"top_customer_group\"]==\"STAR\"],marker={'color':'yellow'} ,name=\"STAR\",legendgroup=\"group2\"),2,1)\n",
    "\n",
    " \n",
    "fig.update_layout(autosize=False,width = 750,height=750)\n",
    "fig.show()"
   ]
  },
  {
   "cell_type": "code",
   "execution_count": null,
   "metadata": {},
   "outputs": [],
   "source": []
  },
  {
   "cell_type": "code",
   "execution_count": null,
   "metadata": {},
   "outputs": [],
   "source": [
    "###plot star customers per customer industry \n",
    "\n",
    "fig = make_subplots(rows=1,cols = 1,subplot_titles = [\"customer industry\"]) \n",
    "\n",
    "fig.append_trace(go.Histogram(histnorm=\"percent\",  x=customer_frame[\"customer_industry\"][customer_frame[\"top_customer_group\"]==\"OTHER\"],marker={'color':'red'}, name=\"OTHER\",legendgroup=\"group1\",nbinsx=4),1,1)\n",
    "fig.append_trace(go.Histogram(histnorm=\"percent\",  x=customer_frame[\"customer_industry\"][customer_frame[\"top_customer_group\"]==\"STAR\"],marker={'color':'yellow'} ,name=\"STAR\",legendgroup=\"group1\",nbinsx=4),1,1)\n",
    "\n",
    "fig.show()"
   ]
  },
  {
   "cell_type": "code",
   "execution_count": null,
   "metadata": {},
   "outputs": [],
   "source": [
    "import gc"
   ]
  },
  {
   "cell_type": "code",
   "execution_count": null,
   "metadata": {},
   "outputs": [],
   "source": [
    "\n",
    "\n",
    "fig = make_subplots(rows = 1,cols=1)\n",
    "\n",
    "fig.append_trace(go.Box(x=customer_frame[\"invoice_num\"][customer_frame[\"top_customer_group\"] == \"OTHER\"],boxpoints=\"suspectedoutliers\",name =\"No. orders OTHER CUSTOMERS\"),row=1,col=1)\n",
    "fig.append_trace(go.Box(x=customer_frame[\"invoice_num\"][customer_frame[\"top_customer_group\"] == \"STAR\"],boxpoints = \"suspectedoutliers\", name= \"No. orders STAR CUSTOMERS\"),row=1,col=1)\n",
    "\n",
    "fig.show()\n",
    "\n"
   ]
  },
  {
   "cell_type": "code",
   "execution_count": null,
   "metadata": {},
   "outputs": [],
   "source": [
    "###wo outliers\n",
    "cf_wo_outliers = remove_outliers(\"invoice_num\",customer_frame.copy())\n",
    "fig = make_subplots(rows = 1,cols=1)\n",
    "\n",
    "fig.append_trace(go.Box(x=cf_wo_outliers[\"invoice_num\"][cf_wo_outliers[\"top_customer_group\"] == \"OTHER\"],boxpoints=False,name =\"No. orders OTHER CUSTOMERS\"),row=1,col=1)\n",
    "fig.append_trace(go.Box(x=cf_wo_outliers[\"invoice_num\"][cf_wo_outliers[\"top_customer_group\"] == \"STAR\"],boxpoints = False, name= \"No. orders STAR CUSTOMERS\"),row=1,col=1)\n",
    "\n",
    "fig.show()\n",
    "\n",
    "del cf_wo_outliers\n",
    "gc.collect()"
   ]
  },
  {
   "cell_type": "code",
   "execution_count": null,
   "metadata": {},
   "outputs": [],
   "source": [
    "del customer_frame \n",
    "gc.collect()"
   ]
  },
  {
   "cell_type": "code",
   "execution_count": null,
   "metadata": {},
   "outputs": [],
   "source": [
    "print(data_frame[\"product_group\"].unique())\n",
    "print(data_frame[\"product_family\"].unique())"
   ]
  },
  {
   "cell_type": "code",
   "execution_count": null,
   "metadata": {},
   "outputs": [],
   "source": [
    "### star customers per item group and product group \n",
    "\n",
    "fig = make_subplots(rows=2,cols = 1,subplot_titles = [\"product family\",\"product_group\"]) \n",
    "\n",
    "fig.append_trace(go.Histogram(histnorm=\"percent\",  x=data_frame[\"product_family\"][data_frame[\"top_customer_group\"]==\"OTHER\"],marker={'color':'blue'}, name=\"OTHER\",legendgroup=\"group1\",nbinsx=4),1,1)\n",
    "fig.append_trace(go.Histogram(histnorm=\"percent\",  x=data_frame[\"product_family\"][data_frame[\"top_customer_group\"]==\"STAR\"],marker={'color':'yellow'} ,name=\"STAR\",legendgroup=\"group1\",nbinsx=4),1,1)\n",
    "\n",
    "fig.append_trace(go.Histogram(histnorm=\"percent\",  x=data_frame[\"product_group\"][data_frame[\"top_customer_group\"]==\"OTHER\"],marker={'color':'blue'}, name=\"OTHER\",legendgroup=\"group2\"),2,1)\n",
    "fig.append_trace(go.Histogram(histnorm=\"percent\",  x=data_frame[\"product_group\"][data_frame[\"top_customer_group\"]==\"STAR\"],marker={'color':'yellow'} ,name=\"STAR\",legendgroup=\"group2\"),2,1)\n",
    "\n",
    " \n",
    "fig.update_layout(autosize=False,width = 750,height=750)\n",
    "fig.show()"
   ]
  },
  {
   "cell_type": "code",
   "execution_count": null,
   "metadata": {},
   "outputs": [],
   "source": [
    "data_frame"
   ]
  },
  {
   "cell_type": "code",
   "execution_count": null,
   "metadata": {},
   "outputs": [],
   "source": [
    "### compare intercompany sales with the regular ones depending on the gm and other measurable factors\n",
    "\n",
    "\n",
    "wo_outliers = remove_outliers(\"gm\",data_frame.copy())\n",
    "\n",
    "fig = make_subplots(rows = 2,cols=1)\n",
    "\n",
    "fig.append_trace(go.Box(x=wo_outliers[\"gm\"][wo_outliers[\"intercompany\"] == \"YES\"],boxpoints=False,name =\"GM for intercompany sales\"),row=1,col=1)\n",
    "fig.append_trace(go.Box(x=wo_outliers[\"gm\"][wo_outliers[\"intercompany\"] == \"NO\"],boxpoints = False, name= \"GM for non-intercompany sales\"),row=1,col=1)\n",
    "\n",
    "wo_outliers = remove_outliers(\"ordered_qty\",data_frame.copy())\n",
    "\n",
    "fig.append_trace(go.Box(x=wo_outliers[\"ordered_qty\"][wo_outliers[\"intercompany\"] == \"YES\"],boxpoints=False,name =\"ordered qty intercompany sales\"),row=2,col=1)\n",
    "fig.append_trace(go.Box(x=wo_outliers[\"ordered_qty\"][wo_outliers[\"intercompany\"] == \"NO\"],boxpoints = False, name= \"ordered qty non-intercompany sales\"),row=2,col=1)\n",
    "\n",
    "fig.show()\n",
    "del wo_outliers\n",
    "gc.collect()\n",
    "\n"
   ]
  },
  {
   "cell_type": "code",
   "execution_count": null,
   "metadata": {},
   "outputs": [],
   "source": [
    "customer_frame"
   ]
  },
  {
   "cell_type": "code",
   "execution_count": null,
   "metadata": {},
   "outputs": [],
   "source": [
    "customer_frame"
   ]
  },
  {
   "cell_type": "code",
   "execution_count": null,
   "metadata": {},
   "outputs": [],
   "source": [
    "customer_frame = data_frame[[\"customer_id\",\"gm\",\"ordered_qty\",\"top_customer_group\"]].groupby(by=[\"customer_id\",\"top_customer_group\"]).mean().reset_index()\n",
    "### compare intercompany sales with the regular ones depending on the gm and other measurable factors\n",
    "\n",
    "\n",
    "wo_outliers = remove_outliers(\"gm\",customer_frame.copy())\n",
    "\n",
    "fig = make_subplots(rows = 2,cols=1)\n",
    "\n",
    "fig.append_trace(go.Box(x=wo_outliers[\"gm\"][wo_outliers[\"top_customer_group\"]==\"OTHER\"],boxpoints=False,name =\"GM AVERAGE OTHER\"),row=1,col=1)\n",
    "fig.append_trace(go.Box(x=wo_outliers[\"gm\"][wo_outliers[\"top_customer_group\"]==\"STAR\"],boxpoints = False, name= \"GM AVERAGE STAR\"),row=1,col=1)\n",
    "\n",
    "wo_outliers = remove_outliers(\"ordered_qty\",customer_frame.copy())\n",
    "\n",
    "fig.append_trace(go.Box(x=wo_outliers[\"ordered_qty\"][wo_outliers[\"top_customer_group\"]==\"OTHER\"],boxpoints=False,name =\"ordered qty AVG OTHER\"),row=2,col=1)\n",
    "fig.append_trace(go.Box(x=wo_outliers[\"ordered_qty\"][wo_outliers[\"top_customer_group\"]==\"STAR\"],boxpoints = False, name= \"ordered qty AVG STAR\"),row=2,col=1)\n",
    "\n",
    "fig.show()\n",
    "del customer_frame\n",
    "del wo_outliers\n",
    "gc.collect()\n",
    "\n",
    "\n",
    "\n",
    "\n"
   ]
  },
  {
   "cell_type": "code",
   "execution_count": null,
   "metadata": {},
   "outputs": [],
   "source": [
    "data_frame[\"price_last_modified_date_in_the_erp\"]"
   ]
  },
  {
   "cell_type": "code",
   "execution_count": null,
   "metadata": {},
   "outputs": [],
   "source": [
    "### study make vs buy feature"
   ]
  },
  {
   "cell_type": "code",
   "execution_count": null,
   "metadata": {},
   "outputs": [],
   "source": [
    "###TODO study sales channel"
   ]
  },
  {
   "cell_type": "code",
   "execution_count": null,
   "metadata": {},
   "outputs": [],
   "source": [
    "### study dependency of the diff(erp_last_modified_date_in_the_erp,invoice_date ) with gm and other parameters\n",
    "### when was the most recent change in the erp, and how does it affect the performance depending on the \n",
    "### timeframe between the last change and the purchase of the item"
   ]
  },
  {
   "cell_type": "code",
   "execution_count": null,
   "metadata": {},
   "outputs": [],
   "source": [
    "###dependency between costs and gm , \n",
    "### also dependency between cost and changes in the erp \n",
    "### dependency between "
   ]
  },
  {
   "cell_type": "code",
   "execution_count": null,
   "metadata": {},
   "outputs": [],
   "source": [
    "### what is invoiced_price_tx? "
   ]
  },
  {
   "cell_type": "code",
   "execution_count": null,
   "metadata": {},
   "outputs": [],
   "source": [
    "###How to decide \n",
    "###on what is the maximum margin we could expect to gain from a customer depending on multiple conditions \n"
   ]
  },
  {
   "cell_type": "code",
   "execution_count": null,
   "metadata": {},
   "outputs": [],
   "source": [
    "## NOTE from an article : Face the customers with transparent pricing so they can decide for themselves. \n",
    "## todo : Try to find insights in the supply-demand chain and other factors that could determine price"
   ]
  },
  {
   "cell_type": "code",
   "execution_count": null,
   "metadata": {},
   "outputs": [],
   "source": [
    "## How the customer from different regions behave considering all of these parameters ? Do they behave differently ? \n",
    "## What do the customers value the most ? "
   ]
  },
  {
   "cell_type": "code",
   "execution_count": null,
   "metadata": {},
   "outputs": [],
   "source": [
    "###cost-based, competitor-based and demand-based pricing "
   ]
  },
  {
   "cell_type": "code",
   "execution_count": null,
   "metadata": {},
   "outputs": [],
   "source": [
    "### compare intercompany sales with the regular ones depending on the gm and other measurable factors"
   ]
  }
 ],
 "metadata": {
  "kernelspec": {
   "display_name": "Python 3",
   "language": "python",
   "name": "python3"
  },
  "language_info": {
   "codemirror_mode": {
    "name": "ipython",
    "version": 3
   },
   "file_extension": ".py",
   "mimetype": "text/x-python",
   "name": "python",
   "nbconvert_exporter": "python",
   "pygments_lexer": "ipython3",
   "version": "3.7.7"
  }
 },
 "nbformat": 4,
 "nbformat_minor": 4
}
