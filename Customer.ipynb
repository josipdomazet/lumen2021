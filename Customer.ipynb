{
 "cells": [
  {
   "cell_type": "code",
   "execution_count": null,
   "metadata": {},
   "outputs": [],
   "source": [
    "import pandas as pd \n",
    "import matplotlib.pyplot as plt \n",
    "import plotly as pltly\n",
    "import numpy as np \n",
    "from plotly.subplots import make_subplots\n",
    "import plotly.graph_objects as go\n",
    "import gc \n",
    "import plotly.express as px"
   ]
  },
  {
   "cell_type": "code",
   "execution_count": null,
   "metadata": {},
   "outputs": [],
   "source": [
    "\n",
    "def read_whole_frame() : \n",
    "\n",
    "    data_frame = pd.read_csv(\"LUMEN_DS.csv\",sep='|',header=0,encoding = 'utf_16_le')\n",
    "    data_frame.drop(columns=\"sales_channel_grouping\",inplace = True)\n",
    "    return data_frame"
   ]
  },
  {
   "cell_type": "code",
   "execution_count": null,
   "metadata": {},
   "outputs": [],
   "source": [
    "data_frame = read_whole_frame()\n",
    "customer_frame = data_frame[[\"customer_id\",\"top_customer_group\",\"customer_region\"\n",
    "                             ,\"customer_industry\",\"customer_first_invoice_date\"]].copy()\n",
    "customer_frame.drop_duplicates() \n",
    "\n",
    "del data_frame\n",
    "gc.collect()"
   ]
  },
  {
   "cell_type": "code",
   "execution_count": null,
   "metadata": {},
   "outputs": [],
   "source": [
    "# Dataset without outliers for better visualization \n",
    "def remove_outliers (feature,dataset): \n",
    "\n",
    "    Q1 = dataset[feature].quantile(0.25)\n",
    "    Q3 = dataset[feature].quantile(0.75)\n",
    "\n",
    "    IQR = Q3-Q1\n",
    "\n",
    "    indices = dataset[dataset[feature]>Q3+4*IQR].index\n",
    "    \n",
    "    dataset.drop(dataset[dataset[feature]>Q3+4*IQR].index,inplace=True)\n",
    "    \n",
    "    #indices = dataset[dataset[feature]<Q1 - 1.5*IQR].index\n",
    "    \n",
    "    #dataset.drop(dataset[dataset[feature]<Q1-1.5*IQR].index,inplace=True) \n",
    "    \n",
    "    \n",
    "    \n",
    "    return dataset\n"
   ]
  },
  {
   "cell_type": "code",
   "execution_count": null,
   "metadata": {},
   "outputs": [],
   "source": [
    "###plot star customers per customer industry \n",
    "\n",
    "fig = make_subplots(rows=1,cols = 1,subplot_titles = [\"customer industry\"]) \n",
    "\n",
    "fig.append_trace(go.Histogram(histnorm=\"percent\",  x=customer_frame[\"customer_industry\"][customer_frame[\"top_customer_group\"]==\"OTHER\"],marker={'color':'red'}, name=\"OTHER\",legendgroup=\"group1\",nbinsx=4),1,1)\n",
    "fig.append_trace(go.Histogram(histnorm=\"percent\",  x=customer_frame[\"customer_industry\"][customer_frame[\"top_customer_group\"]==\"STAR\"],marker={'color':'yellow'} ,name=\"STAR\",legendgroup=\"group1\",nbinsx=4),1,1)\n",
    "\n",
    "fig.show()\n",
    "del customer_frame \n",
    "gc.collect()"
   ]
  },
  {
   "cell_type": "code",
   "execution_count": null,
   "metadata": {},
   "outputs": [],
   "source": [
    "data_frame = read_whole_frame()\n",
    "customer_frame = data_frame[[\"customer_id\",\"top_customer_group\",\"customer_region\",\n",
    "                             \"customer_industry\",\"customer_first_invoice_date\",\"order_num\",\"invoice_date\"]].copy()\n",
    "customer_frame.drop_duplicates() \n",
    "\n",
    "del data_frame\n",
    "gc.collect()\n"
   ]
  },
  {
   "cell_type": "code",
   "execution_count": null,
   "metadata": {},
   "outputs": [],
   "source": [
    "customer_frame[\"invoice_date\"] = pd.to_datetime(customer_frame[\"invoice_date\"],format='%Y-%m-%d')\n",
    "customer_frame[\"invoice_ym\"] = customer_frame['invoice_date'].dt.strftime('%Y-%m')"
   ]
  },
  {
   "cell_type": "code",
   "execution_count": null,
   "metadata": {},
   "outputs": [],
   "source": [
    "counted_orders = customer_frame[[\"customer_id\",\"top_customer_group\",\"order_num\",\"invoice_ym\"]].copy()\n",
    "counted_orders.drop_duplicates(inplace=True)\n",
    "\n",
    "counted_orders = counted_orders.groupby(by=[\"customer_id\",\"top_customer_group\",\"invoice_ym\"]).count().reset_index()\n",
    "\n",
    "counted_orders \n"
   ]
  },
  {
   "cell_type": "code",
   "execution_count": null,
   "metadata": {},
   "outputs": [],
   "source": [
    "counted_orders[counted_orders[\"order_num\"] ==0 ]"
   ]
  },
  {
   "cell_type": "code",
   "execution_count": null,
   "metadata": {},
   "outputs": [],
   "source": [
    "counted_orders = counted_orders[[\"top_customer_group\",\"invoice_ym\",\"order_num\"]].copy() \n",
    "\n",
    "counted_orders = counted_orders.groupby(by=[\"top_customer_group\",\"invoice_ym\"]).median().reset_index()\n",
    "counted_orders \n",
    "\n"
   ]
  },
  {
   "cell_type": "code",
   "execution_count": null,
   "metadata": {},
   "outputs": [],
   "source": [
    "fig = px.line(counted_orders, x=\"invoice_ym\", y=\"order_num\", color='top_customer_group',\n",
    "              title=\"Median number of orders for customer groups per month\")\n",
    "fig.show()"
   ]
  },
  {
   "cell_type": "code",
   "execution_count": null,
   "metadata": {},
   "outputs": [],
   "source": [
    "counted_orders = customer_frame[[\"customer_id\",\"top_customer_group\",\"order_num\",\"invoice_ym\"]].copy()\n",
    "counted_orders.drop_duplicates(inplace=True)\n",
    "\n",
    "counted_orders = counted_orders.groupby(by=[\"customer_id\",\"top_customer_group\",\"invoice_ym\"]).count().reset_index()\n",
    "\n",
    "counted_orders = counted_orders[[\"top_customer_group\",\"invoice_ym\",\"order_num\"]].copy() \n",
    "\n",
    "counted_orders = counted_orders.groupby(by=[\"top_customer_group\",\"invoice_ym\"]).mean().reset_index()\n",
    "counted_orders \n",
    "\n"
   ]
  },
  {
   "cell_type": "code",
   "execution_count": null,
   "metadata": {},
   "outputs": [],
   "source": [
    "fig = px.line(counted_orders, x=\"invoice_ym\", y=\"order_num\", color='top_customer_group',\n",
    "              title=\"Mean number of orders for customer groups per month\")\n",
    "fig.show()"
   ]
  },
  {
   "cell_type": "code",
   "execution_count": null,
   "metadata": {},
   "outputs": [],
   "source": [
    "customer_frame[customer_frame[\"customer_id\"]==-99]"
   ]
  },
  {
   "cell_type": "code",
   "execution_count": null,
   "metadata": {},
   "outputs": [],
   "source": [
    "del counted_orders \n",
    "del customer_frame \n",
    "gc.collect() "
   ]
  },
  {
   "cell_type": "code",
   "execution_count": null,
   "metadata": {},
   "outputs": [],
   "source": [
    "data_frame = read_whole_frame()\n",
    "data_frame"
   ]
  },
  {
   "cell_type": "code",
   "execution_count": null,
   "metadata": {},
   "outputs": [],
   "source": [
    "data_frame[\"revenue\"] = (data_frame[\"invoiced_price\"] - data_frame[\"cost_of_part\"])*data_frame[\"ordered_qty\"]\n",
    "data_frame[\"revenue\"][1294957]\n"
   ]
  },
  {
   "cell_type": "code",
   "execution_count": null,
   "metadata": {},
   "outputs": [],
   "source": [
    "data_frame[\"invoice_date\"] = pd.to_datetime(data_frame[\"invoice_date\"],format='%Y-%m-%d')\n",
    "data_frame[\"invoice_ym\"] = data_frame['invoice_date'].dt.strftime('%Y-%m')\n",
    "\n",
    "revenue_frame = data_frame[[\"customer_id\",\"top_customer_group\",\"order_num\",\"revenue\",\"invoice_ym\"]].copy() \n",
    "\n",
    "\n",
    "revenue_frame = revenue_frame.groupby(by=[\"customer_id\",\"top_customer_group\",\"order_num\",\"invoice_ym\"]).sum().reset_index()\n",
    "revenue_frame = revenue_frame[[\"customer_id\",\"top_customer_group\",\"invoice_ym\",\"revenue\"]].copy() \n",
    "\n",
    "revenue_frame = revenue_frame.groupby(by=[\"customer_id\",\"top_customer_group\",\"invoice_ym\"]).mean().reset_index() \n",
    "revenue_frame = revenue_frame[[\"top_customer_group\",\"invoice_ym\",\"revenue\"]].copy() \n",
    "\n",
    "revenue_frame = revenue_frame.groupby(by=[\"top_customer_group\",\"invoice_ym\"]).median().reset_index() \n",
    "revenue_frame\n",
    "\n"
   ]
  },
  {
   "cell_type": "code",
   "execution_count": null,
   "metadata": {},
   "outputs": [],
   "source": [
    "del data_frame \n",
    "gc.collect() "
   ]
  },
  {
   "cell_type": "code",
   "execution_count": null,
   "metadata": {},
   "outputs": [],
   "source": [
    "fig = px.line(revenue_frame, x=\"invoice_ym\", y=\"revenue\", color='top_customer_group',\n",
    "              title=\"Median revenue of customers per month\")\n",
    "fig.show()"
   ]
  },
  {
   "cell_type": "code",
   "execution_count": null,
   "metadata": {},
   "outputs": [],
   "source": [
    "from datetime import datetime \n",
    "\n",
    "data_frame = read_whole_frame()\n",
    "\n"
   ]
  },
  {
   "cell_type": "code",
   "execution_count": null,
   "metadata": {},
   "outputs": [],
   "source": [
    "from datetime import date\n",
    "is_weekday = []\n",
    "data_frame[\"invoice_date\"]\n",
    "\n",
    "for inv_date in data_frame[\"invoice_date\"]:\n",
    "    tmp = datetime. strptime(inv_date, '%Y-%m-%d')\n",
    "    tmp = tmp.weekday()\n",
    "    if tmp < 5 : \n",
    "        is_weekday.append(\"working day\")\n",
    "    else : \n",
    "        is_weekday.append(\"weekend\")\n"
   ]
  },
  {
   "cell_type": "code",
   "execution_count": null,
   "metadata": {},
   "outputs": [],
   "source": [
    "data_frame[\"working_day\"] = is_weekday\n",
    "data_frame[\"working_day\"].describe()"
   ]
  },
  {
   "cell_type": "code",
   "execution_count": null,
   "metadata": {},
   "outputs": [],
   "source": [
    "is_weekday=[]\n",
    "for inv_date in data_frame[\"order_date\"]:\n",
    "    tmp = datetime. strptime(inv_date, '%Y-%m-%d')\n",
    "    tmp = tmp.weekday()\n",
    "    if tmp < 5: \n",
    "        is_weekday.append(\"working day\")\n",
    "    else : \n",
    "        is_weekday.append(\"weekend\")\n",
    "data_frame[\"working_day_ordered\"] = is_weekday "
   ]
  },
  {
   "cell_type": "code",
   "execution_count": null,
   "metadata": {},
   "outputs": [],
   "source": [
    "data_frame[(data_frame[\"gm\"]>=0)&(data_frame[\"gm\"] <=1)\n",
    "                       &(data_frame[\"invoiced_qty_shipped\"]>0) &\n",
    "                       (data_frame[\"invoiced_price\"]>0)\n",
    "                       &(data_frame[\"ordered_qty\"]>0)&(data_frame[\"working_day\"]==\"weekend\")]"
   ]
  },
  {
   "cell_type": "code",
   "execution_count": null,
   "metadata": {},
   "outputs": [],
   "source": [
    "#data_frame[]\n",
    "\n",
    "fig = px.box(data_frame[(data_frame[\"gm\"]>0)&(data_frame[\"gm\"] <=1)\n",
    "                       &(data_frame[\"invoiced_qty_shipped\"]>0) &\n",
    "                       (data_frame[\"invoiced_price\"]>0)\n",
    "                       &(data_frame[\"ordered_qty\"]>0)],x=\"working_day\",y=\"gm\",width=800,height=600\n",
    "                     ,title=\"GM on working days and weekends using invoiced date\")\n",
    "fig.show()\n",
    "\n",
    "\n"
   ]
  },
  {
   "cell_type": "code",
   "execution_count": null,
   "metadata": {},
   "outputs": [],
   "source": [
    "#data_frame[]\n",
    "\n",
    "\n",
    "\n",
    "fig = px.box(data_frame[(data_frame[\"gm\"]>=0)&(data_frame[\"gm\"] <=1)\n",
    "                       &(data_frame[\"invoiced_qty_shipped\"]>0) &\n",
    "                       (data_frame[\"invoiced_price\"]>0)\n",
    "                       &(data_frame[\"ordered_qty\"]>0)],x=\"working_day_ordered\",y=\"gm\"\n",
    "             ,title=\"GM on working days and weekends\",width=800,height =600)\n",
    "fig.show()\n",
    "\n",
    "\n"
   ]
  },
  {
   "cell_type": "code",
   "execution_count": null,
   "metadata": {},
   "outputs": [],
   "source": [
    "#data_frame[]\n",
    "\n",
    "fig = px.box(data_frame[(data_frame[\"gm\"]>0)&(data_frame[\"gm\"] <=1)\n",
    "                       &(data_frame[\"invoiced_qty_shipped\"]>0) &\n",
    "                       (data_frame[\"invoiced_price\"]>0)\n",
    "                       &(data_frame[\"ordered_qty\"]>0)\n",
    "                       &(data_frame[\"product_group\"].isin([\"PC019\",\"PC003\",\"PC025\",\"PC006\",\"PC022\"]))],x=\"product_group\",y=\"gm\",color=\"working_day\",width=1000,height=600\n",
    "                     ,title=\"Product groups gm on weekends\")\n",
    "fig.show()\n",
    "\n",
    "\n"
   ]
  },
  {
   "cell_type": "code",
   "execution_count": null,
   "metadata": {},
   "outputs": [],
   "source": [
    "grouped_df = data_frame.groupby(by=\"item_code\")\n",
    "\n",
    "grouped_df = grouped_df.agg({\"price_last_modified_date_in_the_erp\": \"nunique\"}).reset_index()\n",
    "grouped_df[grouped_df[\"price_last_modified_date_in_the_erp\"] > 1]"
   ]
  },
  {
   "cell_type": "code",
   "execution_count": null,
   "metadata": {},
   "outputs": [],
   "source": [
    "fig = make_subplots(rows=1,cols = 2,subplot_titles = [\"ordered quantity\",\"invoiced price\"]) \n",
    "\n",
    "#fig.append_trace(go.Histogram(histnorm=\"percent\",  x=data_frame[\"manufacturing_region\"][data_frame[\"top_customer_group\"]==\"OTHER\"],marker={'color':'blue'}, name=\"OTHER\",legendgroup=\"group1\",nbinsx=4),1,1)\n",
    "#fig.append_trace(go.Histogram(histnorm=\"percent\",  x=data_frame[\"manufacturing_region\"][data_frame[\"top_customer_group\"]==\"STAR\"],marker={'color':'yellow'} ,name=\"STAR\",legendgroup=\"group1\",nbinsx=4),1,1)\n",
    "\n",
    "fig.add_trace(px.box(data_frame[(data_frame[\"gm\"]>0)&(data_frame[\"gm\"] <=1)\n",
    "                       &(data_frame[\"invoiced_qty_shipped\"]>0) &\n",
    "                       (data_frame[\"invoiced_price\"]>0)\n",
    "                       &(data_frame[\"ordered_qty\"]>0)],x=\"top_customer_group\",y=\"ordered_qty\",facet_row=),1,1)\n",
    "\n",
    "#fig.append_trace(go.Histogram(histnorm=\"percent\",  x=customer_frame[\"customer_region\"][customer_frame[\"top_customer_group\"]==\"OTHER\"],marker={'color':'blue'}, name=\"OTHER\",legendgroup=\"group2\"),2,1)\n",
    "#fig.append_trace(go.Histogram(histnorm=\"percent\",  x=customer_frame[\"customer_region\"][customer_frame[\"top_customer_group\"]==\"STAR\"],marker={'color':'yellow'} ,name=\"STAR\",legendgroup=\"group2\"),2,1)\n",
    "fig.add_trace(px.box(data_frame[(data_frame[\"gm\"]>0)&(data_frame[\"gm\"] <=1)\n",
    "                       &(data_frame[\"invoiced_qty_shipped\"]>0) &\n",
    "                       (data_frame[\"invoiced_price\"]>0)\n",
    "                       &(data_frame[\"ordered_qty\"]>0)],x=\"top_customer_group\",y=\"invoiced_price\"),1,2)\n",
    "\n",
    "\n",
    "fig.update_layout(autosize=False,width = 750,height=750)\n",
    "fig.show()"
   ]
  },
  {
   "cell_type": "code",
   "execution_count": null,
   "metadata": {},
   "outputs": [],
   "source": [
    "data_frame = read_whole_frame()\n",
    "data_frame = remove_outliers(\"ordered_qty\",data_frame.copy())\n"
   ]
  },
  {
   "cell_type": "code",
   "execution_count": null,
   "metadata": {},
   "outputs": [],
   "source": [
    "import gc \n",
    "gc.collect()"
   ]
  },
  {
   "cell_type": "code",
   "execution_count": null,
   "metadata": {},
   "outputs": [],
   "source": [
    "\n",
    "fig = px.box(data_frame[(data_frame[\"gm\"]>0)&(data_frame[\"gm\"] <=1)\n",
    "                       &(data_frame[\"invoiced_qty_shipped\"]>0) &\n",
    "                       (data_frame[\"invoiced_price\"]>0)\n",
    "                       &(data_frame[\"ordered_qty\"]>0)],x=\"top_customer_group\",y=\"ordered_qty\",height=500,width=500)\n",
    "fig.show()"
   ]
  },
  {
   "cell_type": "code",
   "execution_count": null,
   "metadata": {},
   "outputs": [],
   "source": [
    "gc.collect()\n",
    "data_frame = read_whole_frame() \n",
    "data_frame[[\"invoiced_price\",\"ordered_qty\"]].quantile(q=0.99)"
   ]
  },
  {
   "cell_type": "code",
   "execution_count": null,
   "metadata": {},
   "outputs": [],
   "source": [
    "fig = make_subplots(rows = 1,cols=2)\n",
    "\n",
    "\n",
    "gc.collect()\n",
    "data_frame = read_whole_frame()\n",
    "#data_frame = remove_outliers(\"ordered_qty\",data_frame.copy())\n",
    "fig.add_trace(go.Box(x=data_frame[\"top_customer_group\"][(data_frame[\"gm\"]>0)&(data_frame[\"gm\"] < 1)\n",
    "                       &(data_frame[\"invoiced_qty_shipped\"]>0) &\n",
    "                       (data_frame[\"invoiced_price\"]>0)\n",
    "                       &(data_frame[\"ordered_qty\"]>0)],y=data_frame[\"ordered_qty\"][(data_frame[\"gm\"]>0)&(data_frame[\"gm\"] <1)\n",
    "                       &(data_frame[\"invoiced_qty_shipped\"]>0) &\n",
    "                       (data_frame[\"invoiced_price\"]>0)\n",
    "                       &(data_frame[\"ordered_qty\"]>0)\n",
    "                       ],orientation='v',name=\"ordered quantity\"),1,1)\n",
    "\n",
    "#gc.collect()\n",
    "data_frame = read_whole_frame()\n",
    "#data_frame = remove_outliers(\"invoiced_price\",data_frame.copy())\n",
    "\n",
    "fig.add_trace(go.Box(x=data_frame[\"top_customer_group\"][(data_frame[\"gm\"]>0)&(data_frame[\"gm\"] <1)\n",
    "                       &(data_frame[\"invoiced_qty_shipped\"]>0) &\n",
    "                       (data_frame[\"invoiced_price\"]>0)\n",
    "                       &(data_frame[\"ordered_qty\"]>0)&\n",
    "                        (data_frame[\"invoiced_price\"]<2000)],y=data_frame[\"invoiced_price\"][(data_frame[\"gm\"]>0)&(data_frame[\"gm\"] <1)\n",
    "                       &(data_frame[\"invoiced_qty_shipped\"]>0) &\n",
    "                       (data_frame[\"invoiced_price\"]>0)\n",
    "                       &(data_frame[\"ordered_qty\"]>0)\n",
    "                        &(data_frame[\"invoiced_price\"]<2000)],orientation='v',name=\"invoiced price\"),1,2)\n",
    "\n",
    "fig.update_yaxes(title_text=\"ordered quantity\", row=1, col=1)\n",
    "fig.update_yaxes(title_text=\"invoiced price\", row=1, col = 2 )\n",
    "fig.update_yaxes(type=\"log\")\n",
    "fig.show()\n",
    "gc.collect()"
   ]
  },
  {
   "cell_type": "code",
   "execution_count": null,
   "metadata": {},
   "outputs": [],
   "source": [
    "from datetime import datetime \n",
    "\n",
    "\n",
    "\n",
    "data_frame = read_whole_frame() \n",
    "\n"
   ]
  },
  {
   "cell_type": "code",
   "execution_count": null,
   "metadata": {},
   "outputs": [],
   "source": [
    "#print(data_frame[\"invoice_date\"].max() ) \n",
    "#print(data_frame[\"invoice_date\"].min())\n",
    "\n",
    "date_invoice_max = datetime.strptime(data_frame[\"invoice_date\"].max(),\"%Y-%m-%d\")\n",
    "date_invoice_min = datetime.strptime(data_frame[\"invoice_date\"].min(),\"%Y-%m-%d\")\n",
    "\n",
    "\n",
    "customer_oldness = data_frame[[\"customer_id\",\"customer_first_invoice_date\"]].groupby(by=[\"customer_id\",\"customer_first_invoice_date\"]).min().reset_index()\n",
    "customer_oldness[\"customer_first_invoice_date\"]= list(map(lambda x : datetime.strptime(x,\"%Y-%m-%d %H:%M:%S\"), list(customer_oldness[\"customer_first_invoice_date\"])))\n",
    "customer_oldness[\"customer_age\"] = list(map(lambda x : round((date_invoice_max-x).days/365), list(customer_oldness[\"customer_first_invoice_date\"])))\n",
    "customer_oldness.describe()\n",
    "\n",
    "\n",
    "\n"
   ]
  },
  {
   "cell_type": "code",
   "execution_count": null,
   "metadata": {},
   "outputs": [],
   "source": [
    "customer_oldness[customer_oldness[\"customer_age\"] <=3] "
   ]
  },
  {
   "cell_type": "code",
   "execution_count": null,
   "metadata": {},
   "outputs": [],
   "source": [
    "customer_oldness.describe()"
   ]
  },
  {
   "cell_type": "code",
   "execution_count": null,
   "metadata": {},
   "outputs": [],
   "source": [
    "customer_oldness[\"customer_age_group\"] = \"0\" \n",
    "customer_oldness[\"customer_age_group\"][customer_oldness[\"customer_age\"] <3 ] = \"0-2\" \n",
    "#customer_oldness[\"customer_age_group\"][(customer_oldness[\"customer_age\"]>=3)&(customer_oldness[\"customer_age\"]<=5)] = \"3-5\"\n",
    "customer_oldness[\"customer_age_group\"][(customer_oldness[\"customer_age\"]>=3)&(customer_oldness[\"customer_age\"]<11)] = \"3-10\"\n",
    "customer_oldness[\"customer_age_group\"][(customer_oldness[\"customer_age\"]>=11)] = \"11-27\"\n",
    "customer_oldness"
   ]
  },
  {
   "cell_type": "code",
   "execution_count": null,
   "metadata": {},
   "outputs": [],
   "source": [
    "customer_oldness[customer_oldness[\"customer_age_group\"] == '11-27']"
   ]
  },
  {
   "cell_type": "code",
   "execution_count": null,
   "metadata": {},
   "outputs": [],
   "source": [
    "data_frame[\"customer_age\"] = 0 \n",
    "data_frame[\"customer_age_group\"] = \"0\"\n",
    "i=0\n",
    "for customer_id in customer_oldness[\"customer_id\"] : \n",
    "    #print(customer_id)\n",
    "    #print(customer_oldness[\"customer_age\"][customer_oldness[\"customer_id\"]==customer_id])\n",
    "    indices = data_frame[data_frame[\"customer_id\"] == customer_id].index\n",
    "    data_frame[\"customer_age\"][indices] =\\\n",
    "        list(customer_oldness[\"customer_age\"][customer_oldness[\"customer_id\"] == customer_id])[0]\n",
    "    data_frame[\"customer_age_group\"][indices] =\\\n",
    "        list(customer_oldness[\"customer_age_group\"][customer_oldness[\"customer_id\"] == customer_id])[0]\n",
    "    #data_frame[\"customer_age\"].unique()\n",
    "    #print(data_frame[[\"customer_id\",\"customer_age\",\"customer_age_group\"]][data_frame[\"customer_id\"]!=customer_id])\n"
   ]
  },
  {
   "cell_type": "code",
   "execution_count": null,
   "metadata": {},
   "outputs": [],
   "source": [
    "data_frame[[\"customer_age\",\"customer_age_group\"]]"
   ]
  },
  {
   "cell_type": "code",
   "execution_count": null,
   "metadata": {},
   "outputs": [],
   "source": [
    "data_frame[[\"gm\",\"customer_age\",\"customer_age_group\"]]"
   ]
  },
  {
   "cell_type": "code",
   "execution_count": null,
   "metadata": {},
   "outputs": [],
   "source": [
    "#data_frame[]\n",
    "\n",
    "fig = px.box(data_frame[(data_frame[\"gm\"]>0)&(data_frame[\"gm\"] <1)\n",
    "                       &(data_frame[\"invoiced_qty_shipped\"]>0) &\n",
    "                       (data_frame[\"invoiced_price\"]>0)\n",
    "                       &(data_frame[\"ordered_qty\"]>0)\n",
    "                       ],x=\"customer_age_group\",y=\"invoiced_price\",width=1000,height=600\n",
    "                     ,title=\"ordered quantity for customer age groups\")\n",
    "\n",
    "fig.update_yaxes(type=\"log\")\n",
    "fig.show()\n",
    "\n",
    "\n"
   ]
  },
  {
   "cell_type": "code",
   "execution_count": null,
   "metadata": {},
   "outputs": [],
   "source": [
    "customer_frame = data_frame[[\"customer_id\",\n",
    "                             \"customer_industry\",\"order_num\",\"customer_age\",\"invoice_date\",\"customer_age_group\"]].copy()\n",
    "customer_frame.drop_duplicates()\n",
    "\n"
   ]
  },
  {
   "cell_type": "code",
   "execution_count": null,
   "metadata": {},
   "outputs": [],
   "source": [
    "customer_frame[\"invoice_date\"] = pd.to_datetime(customer_frame[\"invoice_date\"],format='%Y-%m-%d')\n",
    "customer_frame[\"invoice_ym\"] = customer_frame['invoice_date'].dt.strftime('%Y-%m')\n",
    "customer_frame"
   ]
  },
  {
   "cell_type": "code",
   "execution_count": null,
   "metadata": {},
   "outputs": [],
   "source": [
    "counted_orders = customer_frame[[\"customer_id\",\"customer_age\",\"customer_age_group\",\"order_num\",\"invoice_ym\"]].copy()\n",
    "counted_orders.drop_duplicates(inplace=True)\n",
    "\n",
    "counted_orders = counted_orders.groupby(by=[\"customer_id\",\"customer_age_group\",\"invoice_ym\"]).count().reset_index()\n",
    "\n",
    "counted_orders \n"
   ]
  },
  {
   "cell_type": "code",
   "execution_count": null,
   "metadata": {},
   "outputs": [],
   "source": [
    "counted_orders"
   ]
  },
  {
   "cell_type": "code",
   "execution_count": null,
   "metadata": {},
   "outputs": [],
   "source": [
    "counted_orders = counted_orders[[\"customer_age_group\",\"invoice_ym\",\"order_num\"]].copy() \n",
    "\n",
    "counted_orders = counted_orders.groupby(by=[\"customer_age_group\",\"invoice_ym\"]).mean().reset_index()\n",
    "counted_orders \n",
    "\n"
   ]
  },
  {
   "cell_type": "code",
   "execution_count": null,
   "metadata": {},
   "outputs": [],
   "source": [
    "fig = px.line(counted_orders, x=\"invoice_ym\", y=\"order_num\", color='customer_age_group',\n",
    "              title=\"Mean number of orders in age groups over time\")\n",
    "fig.show()"
   ]
  },
  {
   "cell_type": "code",
   "execution_count": null,
   "metadata": {},
   "outputs": [],
   "source": [
    "data_frame = read_whole_frame()\n",
    "\n",
    "\n",
    "\n",
    "data_frame = data_frame[(data_frame[\"gm\"]>0)&(data_frame[\"gm\"] <=1)\n",
    "                       &(data_frame[\"invoiced_qty_shipped\"]>0) &\n",
    "                       (data_frame[\"invoiced_price\"]>0)\n",
    "                       &(data_frame[\"ordered_qty\"]>0)]\n",
    "\n",
    "\n",
    "\n"
   ]
  },
  {
   "cell_type": "code",
   "execution_count": null,
   "metadata": {},
   "outputs": [],
   "source": [
    "data_frame"
   ]
  },
  {
   "cell_type": "code",
   "execution_count": null,
   "metadata": {},
   "outputs": [],
   "source": [
    "indices = data_frame.index\n",
    "\n",
    "problem_indices = indices[data_frame[\"cost_of_part\"]==0]\n",
    "problem_indices = problem_indices.tolist()\n",
    "\n",
    "for index in problem_indices: \n",
    "    problem_value = data_frame.loc[index,:]\n",
    "    problem_item_code = problem_value[\"item_code\"]\n",
    "    last_value_cost_of_part = data_frame[(data_frame[\"item_code\"] == problem_item_code)& \n",
    "                                        (data_frame[\"invoice_date\"]<=problem_value[\"invoice_date\"])&\n",
    "                                        (data_frame[\"cost_of_part\"]!=0)]\n",
    "    \n",
    "    if(len(last_value_cost_of_part)>0) : \n",
    "        \n",
    "        max_invoice_date = last_value_cost_of_part[\"invoice_date\"].max()\n",
    "        \n",
    "        last_cost = last_value_cost_of_part.groupby(by= \"invoice_date\").mean().reset_index() \n",
    "        \n",
    "        data_frame.loc[index,['cost_of_part']] = last_cost[\"cost_of_part\"][last_cost[\"invoice_date\"]==max_invoice_date].values[0]\n",
    "    \n",
    "        \n",
    "\n",
    "\n",
    "data_frame[data_frame[\"cost_of_part\"]==0]"
   ]
  },
  {
   "cell_type": "code",
   "execution_count": null,
   "metadata": {},
   "outputs": [],
   "source": [
    "data_frame[\"gm\"] = (data_frame[\"invoiced_price\"]-data_frame[\"cost_of_part\"])/data_frame[\"invoiced_price\"]"
   ]
  },
  {
   "cell_type": "code",
   "execution_count": null,
   "metadata": {},
   "outputs": [],
   "source": [
    "data_frame.loc[[0]]"
   ]
  },
  {
   "cell_type": "code",
   "execution_count": null,
   "metadata": {},
   "outputs": [],
   "source": [
    "from datetime import date\n",
    "month_no = []\n",
    "year_no = []\n",
    "data_frame[\"invoice_date\"]\n",
    "\n",
    "for inv_date in data_frame[\"invoice_date\"]:\n",
    "    tmp = datetime. strptime(inv_date, '%Y-%m-%d')\n",
    "    tmp = tmp  \n",
    "    \n",
    "    month_no.append(tmp.month)\n",
    "    year_no.append(tmp.year)\n",
    "\n",
    "data_frame[\"month_no\"] = month_no \n",
    "data_frame[\"year_no\"] = year_no \n",
    "\n",
    "data_frame"
   ]
  },
  {
   "cell_type": "code",
   "execution_count": null,
   "metadata": {},
   "outputs": [],
   "source": [
    "df_by_month = data_frame[[\"month_no\",\"year_no\",\"order_num\"]].copy() \n",
    "df_by_month.drop_duplicates()\n",
    "\n",
    "\n",
    "df_by_month = df_by_month.groupby(by=[\"month_no\",\"year_no\"])"
   ]
  },
  {
   "cell_type": "code",
   "execution_count": null,
   "metadata": {},
   "outputs": [],
   "source": [
    "df_by_month = df_by_month.agg({\"order_num\": \"nunique\"}).reset_index()\n",
    "df_by_month[[\"month_no\",\"year_no\"]]"
   ]
  },
  {
   "cell_type": "code",
   "execution_count": null,
   "metadata": {},
   "outputs": [],
   "source": [
    "\n",
    "import seaborn as sns\n",
    "df_by_month =df_by_month.groupby(by=\"month_no\").mean().reset_index()\n",
    "\n",
    "fig = plt.figure(figsize=(10,10))\n",
    "plt.bar(df_by_month[\"month_no\"],df_by_month[\"order_num\"])\n",
    "plt.title(\"Mean number of orders by month\",fontsize=15)\n",
    "plt.xlabel(\"month in year\",fontsize=15) \n",
    "plt.ylabel(\"Number of orders\",fontsize=15)\n",
    "fig.show()"
   ]
  },
  {
   "cell_type": "code",
   "execution_count": null,
   "metadata": {},
   "outputs": [],
   "source": [
    "df_by_month = data_frame[[\"month_no\",\"year_no\",\"gm\"]].copy() \n",
    "\n",
    "df_by_month = df_by_month.groupby(by=[\"month_no\",\"year_no\"]).mean().reset_index()\n",
    "df_by_month"
   ]
  },
  {
   "cell_type": "code",
   "execution_count": null,
   "metadata": {},
   "outputs": [],
   "source": [
    "df_by_month = data_frame[[\"month_no\",\"year_no\",\"product_family\",\"ordered_qty\"]].copy() \n",
    "\n",
    "df_by_month = df_by_month.groupby(by=[\"month_no\",\"year_no\",\"product_family\"]).mean().reset_index()\n",
    "#df_by_month = df_by_month.groupby(by=[\"month_no\",\"product_family\"]).mean().reset_index()\n",
    "df_by_month[df_by_month[\"product_family\"]==\"PF002\"]"
   ]
  },
  {
   "cell_type": "code",
   "execution_count": null,
   "metadata": {},
   "outputs": [],
   "source": [
    "data_frame[\"revenue\"] = (data_frame[\"invoiced_price\"] - data_frame[\"cost_of_part\"])*data_frame[\"ordered_qty\"]\n",
    "\n",
    "data_frame[\"revenue\"]"
   ]
  },
  {
   "cell_type": "code",
   "execution_count": null,
   "metadata": {},
   "outputs": [],
   "source": [
    "df_by_month = data_frame[[\"month_no\",\"year_no\",\"revenue\"]].copy() \n",
    "\n",
    "df_by_month = df_by_month.groupby(by=[\"month_no\",\"year_no\"]).mean().reset_index()\n",
    "df_by_month"
   ]
  },
  {
   "cell_type": "code",
   "execution_count": null,
   "metadata": {},
   "outputs": [],
   "source": [
    "\n",
    "df_by_month =df_by_month.groupby(by=\"month_no\").mean().reset_index()\n",
    "\n",
    "fig = plt.figure(figsize=(10,10))\n",
    "plt.bar(df_by_month[\"month_no\"],df_by_month[\"revenue\"])\n",
    "plt.title(\"Mean revenue by month\",fontsize=15)\n",
    "plt.xlabel(\"month in year\",fontsize=15) \n",
    "plt.ylabel(\"Revenue\",fontsize=15)\n",
    "fig.show()"
   ]
  },
  {
   "cell_type": "code",
   "execution_count": null,
   "metadata": {},
   "outputs": [],
   "source": [
    "data_frame[\"invoice_date\"] = pd.to_datetime(data_frame[\"invoice_date\"],format='%Y-%m-%d')\n",
    "data_frame[\"invoice_ym\"] = data_frame['invoice_date'].dt.strftime('%Y-%m')"
   ]
  },
  {
   "cell_type": "code",
   "execution_count": null,
   "metadata": {},
   "outputs": [],
   "source": [
    "df_by_month = data_frame[[\"invoice_ym\",\"revenue\"]].copy() \n",
    "\n",
    "df_by_month = df_by_month.groupby(by=[\"invoice_ym\"]).mean().reset_index()\n",
    "df_by_month"
   ]
  },
  {
   "cell_type": "code",
   "execution_count": null,
   "metadata": {},
   "outputs": [],
   "source": [
    "fig = plt.figure(figsize=(10,10))\n",
    "plt.bar(df_by_month[\"invoice_ym\"],df_by_month[\"revenue\"])\n",
    "plt.title(\"Mean revenue by month\",fontsize=15)\n",
    "plt.xlabel(\"month in year\",fontsize=15) \n",
    "plt.ylabel(\"Revenue\",fontsize=15)\n",
    "fig.show()"
   ]
  }
 ],
 "metadata": {
  "kernelspec": {
   "display_name": "Python 3.7.7 64-bit",
   "language": "python",
   "name": "python37764bit7a273e7d35d7405a8f8dad84fb66cf31"
  },
  "language_info": {
   "codemirror_mode": {
    "name": "ipython",
    "version": 3
   },
   "file_extension": ".py",
   "mimetype": "text/x-python",
   "name": "python",
   "nbconvert_exporter": "python",
   "pygments_lexer": "ipython3",
   "version": "3.7.7"
  }
 },
 "nbformat": 4,
 "nbformat_minor": 4
}
